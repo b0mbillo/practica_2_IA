{
 "cells": [
  {
   "cell_type": "code",
   "execution_count": 58,
   "id": "a84b4004",
   "metadata": {},
   "outputs": [],
   "source": [
    "import pandas as pd"
   ]
  },
  {
   "cell_type": "code",
   "execution_count": 59,
   "id": "6727f263",
   "metadata": {},
   "outputs": [],
   "source": [
    "data = pd.read_csv('data/online_gaming_behavior_dataset.csv')"
   ]
  },
  {
   "cell_type": "code",
   "execution_count": 60,
   "id": "f81d0e88",
   "metadata": {},
   "outputs": [
    {
     "name": "stdout",
     "output_type": "stream",
     "text": [
      "   PlayerID  Age  Gender Location   GameGenre  PlayTimeHours  InGamePurchases  \\\n",
      "0      9000   43    Male    Other    Strategy      16.271119                0   \n",
      "1      9001   29  Female      USA    Strategy       5.525961                0   \n",
      "2      9002   22  Female      USA      Sports       8.223755                0   \n",
      "3      9003   35    Male      USA      Action       5.265351                1   \n",
      "4      9004   33    Male   Europe      Action      15.531945                0   \n",
      "5      9005   37    Male   Europe         RPG      20.561855                0   \n",
      "6      9006   25    Male      USA      Action       9.752716                0   \n",
      "7      9007   25  Female     Asia         RPG       4.401729                0   \n",
      "8      9008   38  Female   Europe  Simulation      18.152733                0   \n",
      "9      9009   38  Female    Other      Sports      23.942772                0   \n",
      "\n",
      "  GameDifficulty  SessionsPerWeek  AvgSessionDurationMinutes  PlayerLevel  \\\n",
      "0         Medium                6                        108           79   \n",
      "1         Medium                5                        144           11   \n",
      "2           Easy               16                        142           35   \n",
      "3           Easy                9                         85           57   \n",
      "4         Medium                2                        131           95   \n",
      "5           Easy                2                         81           74   \n",
      "6           Hard                1                         50           13   \n",
      "7         Medium               10                         48           27   \n",
      "8           Easy                5                        101           23   \n",
      "9           Easy               13                         95           99   \n",
      "\n",
      "   AchievementsUnlocked EngagementLevel  \n",
      "0                    25          Medium  \n",
      "1                    10          Medium  \n",
      "2                    41            High  \n",
      "3                    47          Medium  \n",
      "4                    37          Medium  \n",
      "5                    22             Low  \n",
      "6                     2             Low  \n",
      "7                    23          Medium  \n",
      "8                    41          Medium  \n",
      "9                    36            High  \n"
     ]
    }
   ],
   "source": [
    "print(data.head(10))\n",
    "# variable objetivo : Engagementlevel"
   ]
  },
  {
   "cell_type": "code",
   "execution_count": 61,
   "id": "2bb4835e",
   "metadata": {},
   "outputs": [],
   "source": [
    "data = data.drop('PlayerID', axis=1)  # Eliminar columna ID"
   ]
  },
  {
   "cell_type": "code",
   "execution_count": 62,
   "id": "27111e9d",
   "metadata": {},
   "outputs": [
    {
     "data": {
      "text/plain": [
       "Index(['Age', 'Gender', 'Location', 'GameGenre', 'PlayTimeHours',\n",
       "       'InGamePurchases', 'GameDifficulty', 'SessionsPerWeek',\n",
       "       'AvgSessionDurationMinutes', 'PlayerLevel', 'AchievementsUnlocked',\n",
       "       'EngagementLevel'],\n",
       "      dtype='object')"
      ]
     },
     "execution_count": 62,
     "metadata": {},
     "output_type": "execute_result"
    }
   ],
   "source": [
    "data.columns = data.columns.str.strip()  # Eliminar espacios en blanco en los nombres de las columnas\n",
    "data.columns"
   ]
  },
  {
   "cell_type": "code",
   "execution_count": 63,
   "id": "34e2a0a4",
   "metadata": {},
   "outputs": [
    {
     "data": {
      "text/plain": [
       "Age                          0\n",
       "Gender                       0\n",
       "Location                     0\n",
       "GameGenre                    0\n",
       "PlayTimeHours                0\n",
       "InGamePurchases              0\n",
       "GameDifficulty               0\n",
       "SessionsPerWeek              0\n",
       "AvgSessionDurationMinutes    0\n",
       "PlayerLevel                  0\n",
       "AchievementsUnlocked         0\n",
       "EngagementLevel              0\n",
       "dtype: int64"
      ]
     },
     "execution_count": 63,
     "metadata": {},
     "output_type": "execute_result"
    }
   ],
   "source": [
    "# datos nulos\n",
    "data.isnull().sum()"
   ]
  },
  {
   "cell_type": "code",
   "execution_count": 64,
   "id": "1cfa0d9f",
   "metadata": {},
   "outputs": [
    {
     "data": {
      "text/plain": [
       "np.int64(0)"
      ]
     },
     "execution_count": 64,
     "metadata": {},
     "output_type": "execute_result"
    }
   ],
   "source": [
    "# datos duplicados\n",
    "data.duplicated().sum()"
   ]
  },
  {
   "cell_type": "code",
   "execution_count": 65,
   "id": "ca733605",
   "metadata": {},
   "outputs": [
    {
     "data": {
      "text/html": [
       "<div>\n",
       "<style scoped>\n",
       "    .dataframe tbody tr th:only-of-type {\n",
       "        vertical-align: middle;\n",
       "    }\n",
       "\n",
       "    .dataframe tbody tr th {\n",
       "        vertical-align: top;\n",
       "    }\n",
       "\n",
       "    .dataframe thead th {\n",
       "        text-align: right;\n",
       "    }\n",
       "</style>\n",
       "<table border=\"1\" class=\"dataframe\">\n",
       "  <thead>\n",
       "    <tr style=\"text-align: right;\">\n",
       "      <th></th>\n",
       "      <th>Age</th>\n",
       "      <th>Gender</th>\n",
       "      <th>Location</th>\n",
       "      <th>GameGenre</th>\n",
       "      <th>PlayTimeHours</th>\n",
       "      <th>InGamePurchases</th>\n",
       "      <th>GameDifficulty</th>\n",
       "      <th>SessionsPerWeek</th>\n",
       "      <th>AvgSessionDurationMinutes</th>\n",
       "      <th>PlayerLevel</th>\n",
       "      <th>AchievementsUnlocked</th>\n",
       "      <th>EngagementLevel</th>\n",
       "    </tr>\n",
       "  </thead>\n",
       "  <tbody>\n",
       "    <tr>\n",
       "      <th>0</th>\n",
       "      <td>43</td>\n",
       "      <td>Male</td>\n",
       "      <td>Other</td>\n",
       "      <td>Strategy</td>\n",
       "      <td>16.271119</td>\n",
       "      <td>0</td>\n",
       "      <td>Medium</td>\n",
       "      <td>6</td>\n",
       "      <td>108</td>\n",
       "      <td>79</td>\n",
       "      <td>25</td>\n",
       "      <td>Medium</td>\n",
       "    </tr>\n",
       "    <tr>\n",
       "      <th>1</th>\n",
       "      <td>29</td>\n",
       "      <td>Female</td>\n",
       "      <td>USA</td>\n",
       "      <td>Strategy</td>\n",
       "      <td>5.525961</td>\n",
       "      <td>0</td>\n",
       "      <td>Medium</td>\n",
       "      <td>5</td>\n",
       "      <td>144</td>\n",
       "      <td>11</td>\n",
       "      <td>10</td>\n",
       "      <td>Medium</td>\n",
       "    </tr>\n",
       "    <tr>\n",
       "      <th>2</th>\n",
       "      <td>22</td>\n",
       "      <td>Female</td>\n",
       "      <td>USA</td>\n",
       "      <td>Sports</td>\n",
       "      <td>8.223755</td>\n",
       "      <td>0</td>\n",
       "      <td>Easy</td>\n",
       "      <td>16</td>\n",
       "      <td>142</td>\n",
       "      <td>35</td>\n",
       "      <td>41</td>\n",
       "      <td>High</td>\n",
       "    </tr>\n",
       "    <tr>\n",
       "      <th>3</th>\n",
       "      <td>35</td>\n",
       "      <td>Male</td>\n",
       "      <td>USA</td>\n",
       "      <td>Action</td>\n",
       "      <td>5.265351</td>\n",
       "      <td>1</td>\n",
       "      <td>Easy</td>\n",
       "      <td>9</td>\n",
       "      <td>85</td>\n",
       "      <td>57</td>\n",
       "      <td>47</td>\n",
       "      <td>Medium</td>\n",
       "    </tr>\n",
       "    <tr>\n",
       "      <th>4</th>\n",
       "      <td>33</td>\n",
       "      <td>Male</td>\n",
       "      <td>Europe</td>\n",
       "      <td>Action</td>\n",
       "      <td>15.531945</td>\n",
       "      <td>0</td>\n",
       "      <td>Medium</td>\n",
       "      <td>2</td>\n",
       "      <td>131</td>\n",
       "      <td>95</td>\n",
       "      <td>37</td>\n",
       "      <td>Medium</td>\n",
       "    </tr>\n",
       "    <tr>\n",
       "      <th>5</th>\n",
       "      <td>37</td>\n",
       "      <td>Male</td>\n",
       "      <td>Europe</td>\n",
       "      <td>RPG</td>\n",
       "      <td>20.561855</td>\n",
       "      <td>0</td>\n",
       "      <td>Easy</td>\n",
       "      <td>2</td>\n",
       "      <td>81</td>\n",
       "      <td>74</td>\n",
       "      <td>22</td>\n",
       "      <td>Low</td>\n",
       "    </tr>\n",
       "    <tr>\n",
       "      <th>6</th>\n",
       "      <td>25</td>\n",
       "      <td>Male</td>\n",
       "      <td>USA</td>\n",
       "      <td>Action</td>\n",
       "      <td>9.752716</td>\n",
       "      <td>0</td>\n",
       "      <td>Hard</td>\n",
       "      <td>1</td>\n",
       "      <td>50</td>\n",
       "      <td>13</td>\n",
       "      <td>2</td>\n",
       "      <td>Low</td>\n",
       "    </tr>\n",
       "    <tr>\n",
       "      <th>7</th>\n",
       "      <td>25</td>\n",
       "      <td>Female</td>\n",
       "      <td>Asia</td>\n",
       "      <td>RPG</td>\n",
       "      <td>4.401729</td>\n",
       "      <td>0</td>\n",
       "      <td>Medium</td>\n",
       "      <td>10</td>\n",
       "      <td>48</td>\n",
       "      <td>27</td>\n",
       "      <td>23</td>\n",
       "      <td>Medium</td>\n",
       "    </tr>\n",
       "    <tr>\n",
       "      <th>8</th>\n",
       "      <td>38</td>\n",
       "      <td>Female</td>\n",
       "      <td>Europe</td>\n",
       "      <td>Simulation</td>\n",
       "      <td>18.152733</td>\n",
       "      <td>0</td>\n",
       "      <td>Easy</td>\n",
       "      <td>5</td>\n",
       "      <td>101</td>\n",
       "      <td>23</td>\n",
       "      <td>41</td>\n",
       "      <td>Medium</td>\n",
       "    </tr>\n",
       "    <tr>\n",
       "      <th>9</th>\n",
       "      <td>38</td>\n",
       "      <td>Female</td>\n",
       "      <td>Other</td>\n",
       "      <td>Sports</td>\n",
       "      <td>23.942772</td>\n",
       "      <td>0</td>\n",
       "      <td>Easy</td>\n",
       "      <td>13</td>\n",
       "      <td>95</td>\n",
       "      <td>99</td>\n",
       "      <td>36</td>\n",
       "      <td>High</td>\n",
       "    </tr>\n",
       "  </tbody>\n",
       "</table>\n",
       "</div>"
      ],
      "text/plain": [
       "   Age  Gender Location   GameGenre  PlayTimeHours  InGamePurchases  \\\n",
       "0   43    Male    Other    Strategy      16.271119                0   \n",
       "1   29  Female      USA    Strategy       5.525961                0   \n",
       "2   22  Female      USA      Sports       8.223755                0   \n",
       "3   35    Male      USA      Action       5.265351                1   \n",
       "4   33    Male   Europe      Action      15.531945                0   \n",
       "5   37    Male   Europe         RPG      20.561855                0   \n",
       "6   25    Male      USA      Action       9.752716                0   \n",
       "7   25  Female     Asia         RPG       4.401729                0   \n",
       "8   38  Female   Europe  Simulation      18.152733                0   \n",
       "9   38  Female    Other      Sports      23.942772                0   \n",
       "\n",
       "  GameDifficulty  SessionsPerWeek  AvgSessionDurationMinutes  PlayerLevel  \\\n",
       "0         Medium                6                        108           79   \n",
       "1         Medium                5                        144           11   \n",
       "2           Easy               16                        142           35   \n",
       "3           Easy                9                         85           57   \n",
       "4         Medium                2                        131           95   \n",
       "5           Easy                2                         81           74   \n",
       "6           Hard                1                         50           13   \n",
       "7         Medium               10                         48           27   \n",
       "8           Easy                5                        101           23   \n",
       "9           Easy               13                         95           99   \n",
       "\n",
       "   AchievementsUnlocked EngagementLevel  \n",
       "0                    25          Medium  \n",
       "1                    10          Medium  \n",
       "2                    41            High  \n",
       "3                    47          Medium  \n",
       "4                    37          Medium  \n",
       "5                    22             Low  \n",
       "6                     2             Low  \n",
       "7                    23          Medium  \n",
       "8                    41          Medium  \n",
       "9                    36            High  "
      ]
     },
     "execution_count": 65,
     "metadata": {},
     "output_type": "execute_result"
    }
   ],
   "source": [
    "unique = data['EngagementLevel'].unique()\n",
    "data['EngagementLevel'] = data['EngagementLevel'].map(lambda x: x.strip() if isinstance(x, str) else x) #quitar espacios en blanco\n",
    "data.head(10)"
   ]
  },
  {
   "cell_type": "code",
   "execution_count": 66,
   "id": "6d7a53ea",
   "metadata": {},
   "outputs": [
    {
     "name": "stdout",
     "output_type": "stream",
     "text": [
      "26.0\n"
     ]
    }
   ],
   "source": [
    "media_logros = data[data['EngagementLevel'] == \"Medium\"][\"AchievementsUnlocked\"].median() #criterio de corte para \"Medium\"\n",
    "print(media_logros)"
   ]
  },
  {
   "cell_type": "code",
   "execution_count": 67,
   "id": "27c6de16",
   "metadata": {},
   "outputs": [
    {
     "data": {
      "text/plain": [
       "EngagementLevel\n",
       "High           10336\n",
       "Low            10324\n",
       "Medium_High     9719\n",
       "Medium_Low      9655\n",
       "Name: count, dtype: int64"
      ]
     },
     "execution_count": 67,
     "metadata": {},
     "output_type": "execute_result"
    }
   ],
   "source": [
    "# Dentro de la clase 'Medium', dividir por logros desbloqueados para que existan 4 clases de calificacion\n",
    "def redefine_engagement(row):\n",
    "    if row['EngagementLevel'] == 'Medium':\n",
    "        if row['AchievementsUnlocked'] < media_logros:\n",
    "            return 'Medium_Low'\n",
    "        else:\n",
    "            return 'Medium_High'\n",
    "    else:\n",
    "        return row['EngagementLevel']\n",
    "\n",
    "data['EngagementLevel'] = data.apply(redefine_engagement, axis=1)\n",
    "data['EngagementLevel'].value_counts()"
   ]
  },
  {
   "cell_type": "code",
   "execution_count": 68,
   "id": "f5b67e82",
   "metadata": {},
   "outputs": [],
   "source": [
    "data.to_csv('data/processed_online_gaming_behavior_dataset.csv', index=False)"
   ]
  }
 ],
 "metadata": {
  "kernelspec": {
   "display_name": "Python 3",
   "language": "python",
   "name": "python3"
  },
  "language_info": {
   "codemirror_mode": {
    "name": "ipython",
    "version": 3
   },
   "file_extension": ".py",
   "mimetype": "text/x-python",
   "name": "python",
   "nbconvert_exporter": "python",
   "pygments_lexer": "ipython3",
   "version": "3.13.2"
  }
 },
 "nbformat": 4,
 "nbformat_minor": 5
}
