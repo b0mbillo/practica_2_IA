{
 "cells": [
  {
   "cell_type": "markdown",
   "id": "273cb0c3",
   "metadata": {},
   "source": [
    "# Preprocesado"
   ]
  },
  {
   "cell_type": "markdown",
   "id": "3522496d",
   "metadata": {},
   "source": [
    "## Importar librerias"
   ]
  },
  {
   "cell_type": "code",
   "execution_count": 20,
   "id": "e7750921",
   "metadata": {},
   "outputs": [],
   "source": [
    "import pandas as pd\n",
    "import numpy as np\n",
    "import pickle\n",
    "from sklearn.model_selection import train_test_split\n",
    "from sklearn.preprocessing import LabelEncoder, OneHotEncoder\n",
    "from sklearn.preprocessing import StandardScaler"
   ]
  },
  {
   "cell_type": "markdown",
   "id": "8749ca84",
   "metadata": {},
   "source": [
    "## Leer Dataset"
   ]
  },
  {
   "cell_type": "code",
   "execution_count": 21,
   "id": "b180c738",
   "metadata": {},
   "outputs": [
    {
     "data": {
      "text/html": [
       "<div>\n",
       "<style scoped>\n",
       "    .dataframe tbody tr th:only-of-type {\n",
       "        vertical-align: middle;\n",
       "    }\n",
       "\n",
       "    .dataframe tbody tr th {\n",
       "        vertical-align: top;\n",
       "    }\n",
       "\n",
       "    .dataframe thead th {\n",
       "        text-align: right;\n",
       "    }\n",
       "</style>\n",
       "<table border=\"1\" class=\"dataframe\">\n",
       "  <thead>\n",
       "    <tr style=\"text-align: right;\">\n",
       "      <th></th>\n",
       "      <th>Age</th>\n",
       "      <th>Gender</th>\n",
       "      <th>Location</th>\n",
       "      <th>GameGenre</th>\n",
       "      <th>PlayTimeHours</th>\n",
       "      <th>InGamePurchases</th>\n",
       "      <th>GameDifficulty</th>\n",
       "      <th>SessionsPerWeek</th>\n",
       "      <th>AvgSessionDurationMinutes</th>\n",
       "      <th>PlayerLevel</th>\n",
       "      <th>AchievementsUnlocked</th>\n",
       "      <th>EngagementLevel</th>\n",
       "    </tr>\n",
       "  </thead>\n",
       "  <tbody>\n",
       "    <tr>\n",
       "      <th>0</th>\n",
       "      <td>43</td>\n",
       "      <td>Male</td>\n",
       "      <td>Other</td>\n",
       "      <td>Strategy</td>\n",
       "      <td>16.271119</td>\n",
       "      <td>0</td>\n",
       "      <td>Medium</td>\n",
       "      <td>6</td>\n",
       "      <td>108</td>\n",
       "      <td>79</td>\n",
       "      <td>25</td>\n",
       "      <td>Medium_Low</td>\n",
       "    </tr>\n",
       "    <tr>\n",
       "      <th>1</th>\n",
       "      <td>29</td>\n",
       "      <td>Female</td>\n",
       "      <td>USA</td>\n",
       "      <td>Strategy</td>\n",
       "      <td>5.525961</td>\n",
       "      <td>0</td>\n",
       "      <td>Medium</td>\n",
       "      <td>5</td>\n",
       "      <td>144</td>\n",
       "      <td>11</td>\n",
       "      <td>10</td>\n",
       "      <td>Medium_Low</td>\n",
       "    </tr>\n",
       "    <tr>\n",
       "      <th>2</th>\n",
       "      <td>22</td>\n",
       "      <td>Female</td>\n",
       "      <td>USA</td>\n",
       "      <td>Sports</td>\n",
       "      <td>8.223755</td>\n",
       "      <td>0</td>\n",
       "      <td>Easy</td>\n",
       "      <td>16</td>\n",
       "      <td>142</td>\n",
       "      <td>35</td>\n",
       "      <td>41</td>\n",
       "      <td>High</td>\n",
       "    </tr>\n",
       "    <tr>\n",
       "      <th>3</th>\n",
       "      <td>35</td>\n",
       "      <td>Male</td>\n",
       "      <td>USA</td>\n",
       "      <td>Action</td>\n",
       "      <td>5.265351</td>\n",
       "      <td>1</td>\n",
       "      <td>Easy</td>\n",
       "      <td>9</td>\n",
       "      <td>85</td>\n",
       "      <td>57</td>\n",
       "      <td>47</td>\n",
       "      <td>Medium_High</td>\n",
       "    </tr>\n",
       "    <tr>\n",
       "      <th>4</th>\n",
       "      <td>33</td>\n",
       "      <td>Male</td>\n",
       "      <td>Europe</td>\n",
       "      <td>Action</td>\n",
       "      <td>15.531945</td>\n",
       "      <td>0</td>\n",
       "      <td>Medium</td>\n",
       "      <td>2</td>\n",
       "      <td>131</td>\n",
       "      <td>95</td>\n",
       "      <td>37</td>\n",
       "      <td>Medium_High</td>\n",
       "    </tr>\n",
       "  </tbody>\n",
       "</table>\n",
       "</div>"
      ],
      "text/plain": [
       "   Age  Gender Location GameGenre  PlayTimeHours  InGamePurchases  \\\n",
       "0   43    Male    Other  Strategy      16.271119                0   \n",
       "1   29  Female      USA  Strategy       5.525961                0   \n",
       "2   22  Female      USA    Sports       8.223755                0   \n",
       "3   35    Male      USA    Action       5.265351                1   \n",
       "4   33    Male   Europe    Action      15.531945                0   \n",
       "\n",
       "  GameDifficulty  SessionsPerWeek  AvgSessionDurationMinutes  PlayerLevel  \\\n",
       "0         Medium                6                        108           79   \n",
       "1         Medium                5                        144           11   \n",
       "2           Easy               16                        142           35   \n",
       "3           Easy                9                         85           57   \n",
       "4         Medium                2                        131           95   \n",
       "\n",
       "   AchievementsUnlocked EngagementLevel  \n",
       "0                    25      Medium_Low  \n",
       "1                    10      Medium_Low  \n",
       "2                    41            High  \n",
       "3                    47     Medium_High  \n",
       "4                    37     Medium_High  "
      ]
     },
     "execution_count": 21,
     "metadata": {},
     "output_type": "execute_result"
    }
   ],
   "source": [
    "data = pd.read_csv('data/processed_online_gaming_behavior_dataset.csv')\n",
    "data.head()"
   ]
  },
  {
   "cell_type": "markdown",
   "id": "dae26464",
   "metadata": {},
   "source": [
    "## conversión de características categóricas (CC)"
   ]
  },
  {
   "cell_type": "code",
   "execution_count": 22,
   "id": "96e3a6ad",
   "metadata": {},
   "outputs": [
    {
     "data": {
      "text/html": [
       "<div>\n",
       "<style scoped>\n",
       "    .dataframe tbody tr th:only-of-type {\n",
       "        vertical-align: middle;\n",
       "    }\n",
       "\n",
       "    .dataframe tbody tr th {\n",
       "        vertical-align: top;\n",
       "    }\n",
       "\n",
       "    .dataframe thead th {\n",
       "        text-align: right;\n",
       "    }\n",
       "</style>\n",
       "<table border=\"1\" class=\"dataframe\">\n",
       "  <thead>\n",
       "    <tr style=\"text-align: right;\">\n",
       "      <th></th>\n",
       "      <th>Age</th>\n",
       "      <th>PlayTimeHours</th>\n",
       "      <th>InGamePurchases</th>\n",
       "      <th>SessionsPerWeek</th>\n",
       "      <th>AvgSessionDurationMinutes</th>\n",
       "      <th>PlayerLevel</th>\n",
       "      <th>AchievementsUnlocked</th>\n",
       "      <th>EngagementLevel</th>\n",
       "      <th>GameGenre_Action</th>\n",
       "      <th>GameGenre_RPG</th>\n",
       "      <th>...</th>\n",
       "      <th>GameGenre_Strategy</th>\n",
       "      <th>Gender_Female</th>\n",
       "      <th>Gender_Male</th>\n",
       "      <th>Location_Asia</th>\n",
       "      <th>Location_Europe</th>\n",
       "      <th>Location_Other</th>\n",
       "      <th>Location_USA</th>\n",
       "      <th>GameDifficulty_Easy</th>\n",
       "      <th>GameDifficulty_Hard</th>\n",
       "      <th>GameDifficulty_Medium</th>\n",
       "    </tr>\n",
       "  </thead>\n",
       "  <tbody>\n",
       "    <tr>\n",
       "      <th>0</th>\n",
       "      <td>43</td>\n",
       "      <td>16.271119</td>\n",
       "      <td>0</td>\n",
       "      <td>6</td>\n",
       "      <td>108</td>\n",
       "      <td>79</td>\n",
       "      <td>25</td>\n",
       "      <td>3</td>\n",
       "      <td>0.0</td>\n",
       "      <td>0.0</td>\n",
       "      <td>...</td>\n",
       "      <td>1.0</td>\n",
       "      <td>0.0</td>\n",
       "      <td>1.0</td>\n",
       "      <td>0.0</td>\n",
       "      <td>0.0</td>\n",
       "      <td>1.0</td>\n",
       "      <td>0.0</td>\n",
       "      <td>0.0</td>\n",
       "      <td>0.0</td>\n",
       "      <td>1.0</td>\n",
       "    </tr>\n",
       "    <tr>\n",
       "      <th>1</th>\n",
       "      <td>29</td>\n",
       "      <td>5.525961</td>\n",
       "      <td>0</td>\n",
       "      <td>5</td>\n",
       "      <td>144</td>\n",
       "      <td>11</td>\n",
       "      <td>10</td>\n",
       "      <td>3</td>\n",
       "      <td>0.0</td>\n",
       "      <td>0.0</td>\n",
       "      <td>...</td>\n",
       "      <td>1.0</td>\n",
       "      <td>1.0</td>\n",
       "      <td>0.0</td>\n",
       "      <td>0.0</td>\n",
       "      <td>0.0</td>\n",
       "      <td>0.0</td>\n",
       "      <td>1.0</td>\n",
       "      <td>0.0</td>\n",
       "      <td>0.0</td>\n",
       "      <td>1.0</td>\n",
       "    </tr>\n",
       "    <tr>\n",
       "      <th>2</th>\n",
       "      <td>22</td>\n",
       "      <td>8.223755</td>\n",
       "      <td>0</td>\n",
       "      <td>16</td>\n",
       "      <td>142</td>\n",
       "      <td>35</td>\n",
       "      <td>41</td>\n",
       "      <td>0</td>\n",
       "      <td>0.0</td>\n",
       "      <td>0.0</td>\n",
       "      <td>...</td>\n",
       "      <td>0.0</td>\n",
       "      <td>1.0</td>\n",
       "      <td>0.0</td>\n",
       "      <td>0.0</td>\n",
       "      <td>0.0</td>\n",
       "      <td>0.0</td>\n",
       "      <td>1.0</td>\n",
       "      <td>1.0</td>\n",
       "      <td>0.0</td>\n",
       "      <td>0.0</td>\n",
       "    </tr>\n",
       "    <tr>\n",
       "      <th>3</th>\n",
       "      <td>35</td>\n",
       "      <td>5.265351</td>\n",
       "      <td>1</td>\n",
       "      <td>9</td>\n",
       "      <td>85</td>\n",
       "      <td>57</td>\n",
       "      <td>47</td>\n",
       "      <td>2</td>\n",
       "      <td>1.0</td>\n",
       "      <td>0.0</td>\n",
       "      <td>...</td>\n",
       "      <td>0.0</td>\n",
       "      <td>0.0</td>\n",
       "      <td>1.0</td>\n",
       "      <td>0.0</td>\n",
       "      <td>0.0</td>\n",
       "      <td>0.0</td>\n",
       "      <td>1.0</td>\n",
       "      <td>1.0</td>\n",
       "      <td>0.0</td>\n",
       "      <td>0.0</td>\n",
       "    </tr>\n",
       "    <tr>\n",
       "      <th>4</th>\n",
       "      <td>33</td>\n",
       "      <td>15.531945</td>\n",
       "      <td>0</td>\n",
       "      <td>2</td>\n",
       "      <td>131</td>\n",
       "      <td>95</td>\n",
       "      <td>37</td>\n",
       "      <td>2</td>\n",
       "      <td>1.0</td>\n",
       "      <td>0.0</td>\n",
       "      <td>...</td>\n",
       "      <td>0.0</td>\n",
       "      <td>0.0</td>\n",
       "      <td>1.0</td>\n",
       "      <td>0.0</td>\n",
       "      <td>1.0</td>\n",
       "      <td>0.0</td>\n",
       "      <td>0.0</td>\n",
       "      <td>0.0</td>\n",
       "      <td>0.0</td>\n",
       "      <td>1.0</td>\n",
       "    </tr>\n",
       "  </tbody>\n",
       "</table>\n",
       "<p>5 rows × 22 columns</p>\n",
       "</div>"
      ],
      "text/plain": [
       "   Age  PlayTimeHours  InGamePurchases  SessionsPerWeek  \\\n",
       "0   43      16.271119                0                6   \n",
       "1   29       5.525961                0                5   \n",
       "2   22       8.223755                0               16   \n",
       "3   35       5.265351                1                9   \n",
       "4   33      15.531945                0                2   \n",
       "\n",
       "   AvgSessionDurationMinutes  PlayerLevel  AchievementsUnlocked  \\\n",
       "0                        108           79                    25   \n",
       "1                        144           11                    10   \n",
       "2                        142           35                    41   \n",
       "3                         85           57                    47   \n",
       "4                        131           95                    37   \n",
       "\n",
       "   EngagementLevel  GameGenre_Action  GameGenre_RPG  ...  GameGenre_Strategy  \\\n",
       "0                3               0.0            0.0  ...                 1.0   \n",
       "1                3               0.0            0.0  ...                 1.0   \n",
       "2                0               0.0            0.0  ...                 0.0   \n",
       "3                2               1.0            0.0  ...                 0.0   \n",
       "4                2               1.0            0.0  ...                 0.0   \n",
       "\n",
       "   Gender_Female  Gender_Male  Location_Asia  Location_Europe  Location_Other  \\\n",
       "0            0.0          1.0            0.0              0.0             1.0   \n",
       "1            1.0          0.0            0.0              0.0             0.0   \n",
       "2            1.0          0.0            0.0              0.0             0.0   \n",
       "3            0.0          1.0            0.0              0.0             0.0   \n",
       "4            0.0          1.0            0.0              1.0             0.0   \n",
       "\n",
       "   Location_USA  GameDifficulty_Easy  GameDifficulty_Hard  \\\n",
       "0           0.0                  0.0                  0.0   \n",
       "1           1.0                  0.0                  0.0   \n",
       "2           1.0                  1.0                  0.0   \n",
       "3           1.0                  1.0                  0.0   \n",
       "4           0.0                  0.0                  0.0   \n",
       "\n",
       "   GameDifficulty_Medium  \n",
       "0                    1.0  \n",
       "1                    1.0  \n",
       "2                    0.0  \n",
       "3                    0.0  \n",
       "4                    1.0  \n",
       "\n",
       "[5 rows x 22 columns]"
      ]
     },
     "execution_count": 22,
     "metadata": {},
     "output_type": "execute_result"
    }
   ],
   "source": [
    "# Codificar variable objetivo\n",
    "label_encoder = LabelEncoder()\n",
    "data['EngagementLevel'] = label_encoder.fit_transform(data['EngagementLevel'])\n",
    "\n",
    "# Columnas categóricas nominales\n",
    "categorical_columns = ['GameGenre', 'Gender', 'Location', 'GameDifficulty']\n",
    "\n",
    "# One-hot encoding\n",
    "ohe = OneHotEncoder(sparse_output=False, handle_unknown='ignore')\n",
    "encoded = ohe.fit_transform(data[categorical_columns])\n",
    "encoded_df = pd.DataFrame(encoded, columns=ohe.get_feature_names_out(categorical_columns))\n",
    "\n",
    "# Combinar con numéricas\n",
    "data_numerico = data.drop(columns=categorical_columns).reset_index(drop=True)\n",
    "encoded_df = encoded_df.reset_index(drop=True)\n",
    "data_procesada = pd.concat([data_numerico, encoded_df], axis=1)\n",
    "\n",
    "data_procesada.head()"
   ]
  },
  {
   "cell_type": "code",
   "execution_count": 23,
   "id": "b6064bd0",
   "metadata": {},
   "outputs": [
    {
     "data": {
      "text/plain": [
       "EngagementLevel\n",
       "0    10336\n",
       "1    10324\n",
       "2     9719\n",
       "3     9655\n",
       "Name: count, dtype: int64"
      ]
     },
     "execution_count": 23,
     "metadata": {},
     "output_type": "execute_result"
    }
   ],
   "source": [
    "data_procesada['EngagementLevel'].value_counts()\n",
    "# 0-high, 1-low, 2-medium high, 3-medium low"
   ]
  },
  {
   "cell_type": "markdown",
   "id": "54fd8475",
   "metadata": {},
   "source": [
    "## definir X e Y (tratar outliers)"
   ]
  },
  {
   "cell_type": "code",
   "execution_count": 24,
   "id": "a06cda57",
   "metadata": {},
   "outputs": [
    {
     "name": "stdout",
     "output_type": "stream",
     "text": [
      "Columnas continuas seleccionadas: ['Age', 'PlayTimeHours', 'SessionsPerWeek', 'AvgSessionDurationMinutes', 'PlayerLevel', 'AchievementsUnlocked']\n",
      "Columnas continuas seleccionadas: ['Age', 'PlayTimeHours', 'SessionsPerWeek', 'AvgSessionDurationMinutes', 'PlayerLevel', 'AchievementsUnlocked']\n"
     ]
    },
    {
     "data": {
      "text/plain": [
       "((40034, 21), (40034, 21), (40034, 21))"
      ]
     },
     "execution_count": 24,
     "metadata": {},
     "output_type": "execute_result"
    }
   ],
   "source": [
    "# Separar características y variable objetivo\n",
    "X = data_procesada.drop(columns=['EngagementLevel'])\n",
    "y = data_procesada['EngagementLevel']\n",
    "\n",
    "\n",
    "# Función para eliminar outliers usando IQR\n",
    "def remove_outliers_iqr(df, percentage=None):\n",
    "    \"\"\"\n",
    "    Elimina outliers usando el método del rango intercuartílico (IQR)\n",
    "    solo en columnas numéricas continuas (más de 2 valores únicos).\n",
    "\n",
    "    Parámetros:\n",
    "    - df: DataFrame de entrada\n",
    "    - percentage: None elimina todos los outliers; si se indica (ej. 0.05), mantiene ese porcentaje de los outliers\n",
    "\n",
    "    Retorna:\n",
    "    - DataFrame sin outliers (completo o parcial según el porcentaje)\n",
    "    - Lista de columnas numéricas continuas\n",
    "    \"\"\"\n",
    "    # Seleccionar solo columnas numéricas continuas\n",
    "    continuous_columns = [\n",
    "        col for col in df.columns\n",
    "        if df[col].nunique() > 2 and pd.api.types.is_numeric_dtype(df[col])\n",
    "    ]\n",
    "    print(f\"Columnas continuas seleccionadas: {continuous_columns}\")\n",
    "\n",
    "    # Calcular IQR\n",
    "    Q1 = df[continuous_columns].quantile(0.25)\n",
    "    Q3 = df[continuous_columns].quantile(0.75)\n",
    "    IQR = Q3 - Q1\n",
    "    lower_bound = Q1 - 1.5 * IQR\n",
    "    upper_bound = Q3 + 1.5 * IQR\n",
    "\n",
    "    # Crear máscara booleana de outliers\n",
    "    outlier_mask = ((df[continuous_columns] < lower_bound) | (df[continuous_columns] > upper_bound)).any(axis=1)\n",
    "\n",
    "    if percentage is None:\n",
    "        # Eliminar todos los outliers\n",
    "        return df[~outlier_mask] , continuous_columns\n",
    "    else:\n",
    "        # Mantener un porcentaje de outliers\n",
    "        outliers = df[outlier_mask]\n",
    "        non_outliers = df[~outlier_mask]\n",
    "        outliers_sample = outliers.sample(frac=percentage, random_state=42)\n",
    "        return pd.concat([non_outliers, outliers_sample]) , continuous_columns\n",
    "\n",
    "# (i) sin outliers\n",
    "X_no_outliers, columnas = remove_outliers_iqr(X)\n",
    "y_no_outliers = y.loc[X_no_outliers.index]\n",
    "\n",
    "# (ii) con 5% de outliers\n",
    "X_5pct_outliers, columnas = remove_outliers_iqr(X, percentage=0.05)\n",
    "y_5pct_outliers = y.loc[X_5pct_outliers.index]\n",
    "\n",
    "# Mostrar tamaños de los datasets\n",
    "X.shape, X_no_outliers.shape, X_5pct_outliers.shape"
   ]
  },
  {
   "cell_type": "code",
   "execution_count": 25,
   "id": "04ff9684",
   "metadata": {},
   "outputs": [],
   "source": [
    "# Notamos que no hay outliers\n",
    "# entonces generaremos el dataset con outliers\n",
    "def add_artificial_outliers(df, columns, fraction=0.05, factor=3):\n",
    "    \"\"\"\n",
    "    Agrega outliers artificiales a las columnas numéricas seleccionadas.\n",
    "    \n",
    "    Parámetros:\n",
    "    - df: DataFrame con los datos originales\n",
    "    - columns: Lista de columnas a las que se les agregarán outliers\n",
    "    - fraction: Fracción de filas a las que se les agregarán outliers\n",
    "    - factor: Factor para aumentar el valor de los outliers (por ejemplo, 3 veces el IQR)\n",
    "    \n",
    "    Retorna:\n",
    "    - DataFrame con los outliers añadidos\n",
    "    \"\"\"\n",
    "    df_outliers = df.copy()\n",
    "\n",
    "    # Seleccionar filas al azar para agregar outliers\n",
    "    n_outliers = int(len(df) * fraction)\n",
    "    outlier_rows = np.random.choice(df.index, n_outliers, replace=False)\n",
    "\n",
    "    for col in columns:\n",
    "        # Calcular el rango IQR para la columna\n",
    "        Q1 = df[col].quantile(0.25)\n",
    "        Q3 = df[col].quantile(0.75)\n",
    "        IQR = Q3 - Q1\n",
    "\n",
    "        # Crear outliers artificiales\n",
    "        lower_outliers = Q1 - factor * IQR\n",
    "        upper_outliers = Q3 + factor * IQR\n",
    "\n",
    "        # Asignar valores fuera del rango IQR\n",
    "        df_outliers.loc[outlier_rows, col] = np.random.choice([lower_outliers, upper_outliers], size=n_outliers)\n",
    "\n",
    "    return df_outliers\n",
    "\n",
    "data_5pct_outliers = add_artificial_outliers(data_procesada, columnas, fraction=0.05, factor=2) #5% de outliers en dataset\n"
   ]
  },
  {
   "cell_type": "code",
   "execution_count": 26,
   "id": "8d8c77f2",
   "metadata": {},
   "outputs": [
    {
     "name": "stdout",
     "output_type": "stream",
     "text": [
      "Columnas continuas seleccionadas: ['Age', 'PlayTimeHours', 'SessionsPerWeek', 'AvgSessionDurationMinutes', 'PlayerLevel', 'AchievementsUnlocked']\n",
      "Columnas continuas seleccionadas: ['Age', 'PlayTimeHours', 'SessionsPerWeek', 'AvgSessionDurationMinutes', 'PlayerLevel', 'AchievementsUnlocked']\n"
     ]
    },
    {
     "data": {
      "text/plain": [
       "((40034, 21), (38033, 21), (38133, 21))"
      ]
     },
     "execution_count": 26,
     "metadata": {},
     "output_type": "execute_result"
    }
   ],
   "source": [
    "X = data_5pct_outliers.drop(columns=['EngagementLevel'])\n",
    "y = data_5pct_outliers['EngagementLevel']\n",
    "\n",
    "X_5pct_outliers, columnas = remove_outliers_iqr(X, percentage=0.05) # mantener 5% de outliers del dataset\n",
    "y_5pct_outliers = y.loc[X_5pct_outliers.index]\n",
    "\n",
    "X_no_outliers, columnas = remove_outliers_iqr(X)\n",
    "y_no_outliers = y.loc[X_no_outliers.index]\n",
    "\n",
    "X.shape, X_no_outliers.shape, X_5pct_outliers.shape"
   ]
  },
  {
   "cell_type": "markdown",
   "id": "11b43a82",
   "metadata": {},
   "source": [
    "## Separar datos"
   ]
  },
  {
   "cell_type": "code",
   "execution_count": 27,
   "id": "ed78f5e1",
   "metadata": {},
   "outputs": [],
   "source": [
    "X_train, X_test, y_train, y_test = train_test_split(X_5pct_outliers, y_5pct_outliers, test_size=0.2, random_state=42) # CC y SI outliers y NO balanceados y NO escalados"
   ]
  },
  {
   "cell_type": "code",
   "execution_count": 28,
   "id": "066719d6",
   "metadata": {},
   "outputs": [],
   "source": [
    "X_train_clean, X_test_clean, y_train_clean, y_test_clean = train_test_split(X_no_outliers, y_no_outliers, test_size=0.2, random_state=42) # CC y NO outliers y NO balanceados y NO escalados"
   ]
  },
  {
   "cell_type": "code",
   "execution_count": 29,
   "id": "93e4f5c0",
   "metadata": {},
   "outputs": [
    {
     "data": {
      "text/plain": [
       "((7627, 21), (30506, 21), (7607, 21), (30426, 21))"
      ]
     },
     "execution_count": 29,
     "metadata": {},
     "output_type": "execute_result"
    }
   ],
   "source": [
    "X_test.shape, X_train.shape, X_test_clean.shape, X_train_clean.shape"
   ]
  },
  {
   "cell_type": "markdown",
   "id": "eb39e135",
   "metadata": {},
   "source": [
    "## Balanceo de Clases"
   ]
  },
  {
   "cell_type": "markdown",
   "id": "d49e11f2",
   "metadata": {},
   "source": [
    "### Check desbalanceo"
   ]
  },
  {
   "cell_type": "code",
   "execution_count": 30,
   "id": "d292ff66",
   "metadata": {},
   "outputs": [
    {
     "data": {
      "text/plain": [
       "EngagementLevel\n",
       "1    7892\n",
       "0    7863\n",
       "2    7379\n",
       "3    7372\n",
       "Name: count, dtype: int64"
      ]
     },
     "execution_count": 30,
     "metadata": {},
     "output_type": "execute_result"
    }
   ],
   "source": [
    "y_train.value_counts() # 5% outliers\n",
    "# 0-high, 1-low, 2-medium high, 3-medium low"
   ]
  },
  {
   "cell_type": "code",
   "execution_count": 31,
   "id": "38f8ebdf",
   "metadata": {},
   "outputs": [
    {
     "data": {
      "text/plain": [
       "EngagementLevel\n",
       "1    7843\n",
       "0    7794\n",
       "2    7414\n",
       "3    7375\n",
       "Name: count, dtype: int64"
      ]
     },
     "execution_count": 31,
     "metadata": {},
     "output_type": "execute_result"
    }
   ],
   "source": [
    "y_train_clean.value_counts()  # sin outliers\n",
    "# 0-high, 1-low, 2-medium high, 3-medium low"
   ]
  },
  {
   "cell_type": "markdown",
   "id": "b45c723c",
   "metadata": {},
   "source": [
    "### Balancear"
   ]
  },
  {
   "cell_type": "code",
   "execution_count": 32,
   "id": "bf5734e7",
   "metadata": {},
   "outputs": [],
   "source": [
    "def submuestreo_balanceado(X_train, y_train):\n",
    "    \"\"\"\n",
    "    Realiza submuestreo aleatorio para balancear clases en el conjunto de entrenamiento.\n",
    "    \n",
    "    Parámetros:\n",
    "    - X_train: DataFrame con las características.\n",
    "    - y_train: Serie o array con la variable objetivo.\n",
    "    Retorna:\n",
    "    - X_train_under: DataFrame con características balanceadas.\n",
    "    - y_train_under: Serie con etiquetas balanceadas.\n",
    "    \"\"\"\n",
    "    # Combinar X e y\n",
    "    train_df = X_train.copy()\n",
    "    train_df['EngagementLevel'] = y_train\n",
    "\n",
    "    # Encontrar el número mínimo de muestras entre clases\n",
    "    min_class_count = train_df['EngagementLevel'].value_counts().min()\n",
    "\n",
    "    # Submuestrear cada clase\n",
    "    balanced_df = train_df.groupby('EngagementLevel').sample(n=min_class_count, random_state=42)\n",
    "\n",
    "    # Separar nuevamente\n",
    "    X_train_under = balanced_df.drop(columns=['EngagementLevel'])\n",
    "    y_train_under = balanced_df['EngagementLevel']\n",
    "\n",
    "    return X_train_under, y_train_under"
   ]
  },
  {
   "cell_type": "code",
   "execution_count": 33,
   "id": "b396b6e3",
   "metadata": {},
   "outputs": [],
   "source": [
    "X_train_clean_balanced, y_train_clean_balanced = submuestreo_balanceado(X_train_clean, y_train_clean) # CC y NO outliers y balanceado y NO escalado\n",
    "X_train_balanced, y_train_balanced = submuestreo_balanceado(X_train, y_train) # CC y SI outliers y balanceado y NO escalado"
   ]
  },
  {
   "cell_type": "markdown",
   "id": "e25af761",
   "metadata": {},
   "source": [
    "### Check de balanceo"
   ]
  },
  {
   "cell_type": "code",
   "execution_count": 34,
   "id": "68e562fc",
   "metadata": {},
   "outputs": [
    {
     "data": {
      "text/plain": [
       "EngagementLevel\n",
       "0    7375\n",
       "1    7375\n",
       "2    7375\n",
       "3    7375\n",
       "Name: count, dtype: int64"
      ]
     },
     "execution_count": 34,
     "metadata": {},
     "output_type": "execute_result"
    }
   ],
   "source": [
    "y_train_clean_balanced.value_counts() # sin outliers\n",
    "# 0-high, 1-low, 2-medium high, 3-medium low"
   ]
  },
  {
   "cell_type": "code",
   "execution_count": 35,
   "id": "3796d15d",
   "metadata": {},
   "outputs": [
    {
     "data": {
      "text/plain": [
       "EngagementLevel\n",
       "0    7372\n",
       "1    7372\n",
       "2    7372\n",
       "3    7372\n",
       "Name: count, dtype: int64"
      ]
     },
     "execution_count": 35,
     "metadata": {},
     "output_type": "execute_result"
    }
   ],
   "source": [
    "y_train_balanced.value_counts() # 5% outliers\n",
    "# 0-high, 1-low, 2-medium high, 3-medium low"
   ]
  },
  {
   "cell_type": "markdown",
   "id": "c01d4f5b",
   "metadata": {},
   "source": [
    "## Escalado de datos"
   ]
  },
  {
   "cell_type": "code",
   "execution_count": 36,
   "id": "0f201b6a",
   "metadata": {},
   "outputs": [],
   "source": [
    "scaler = StandardScaler()"
   ]
  },
  {
   "cell_type": "code",
   "execution_count": 37,
   "id": "09a6f040",
   "metadata": {},
   "outputs": [],
   "source": [
    "X_train_scaled = scaler.fit_transform(X_train)\n",
    "X_test_scaled = scaler.transform(X_test)\n",
    "\n",
    "X_train_clean_scaled = scaler.fit_transform(X_train_clean)\n",
    "X_test_clean_scaled = scaler.transform(X_test_clean)\n",
    "\n",
    "X_train_balanced_scaled = scaler.fit_transform(X_train_balanced)\n",
    "#X_test_scaled = scaler.transform(X_test)\n",
    "\n",
    "X_train_clean_balanced_scaled = scaler.fit_transform(X_train_clean_balanced)\n",
    "#X_test_clean_scaled = scaler.transform(X_test_clean)"
   ]
  },
  {
   "cell_type": "markdown",
   "id": "a40dea5d",
   "metadata": {},
   "source": [
    "## v3 = X_train, X_test, y_train, y_test - CC y SI outliers y NO balanceados y NO ED\n",
    "## v1 = X_train_clean, X_test_clean, y_train_clean, y_test_clean - CC y NO outliers y NO balanceados y NO ED\n",
    "## v4 = X_train_balanced, X_test, y_train, y_test - CC y SI outliers y balanceados y NO ED\n",
    "## v2 = X_train_clean_balanced, X_test_clean, y_train_clean, y_test_clean - CC y NO outliers y balanceados y NO ED\n",
    "\n",
    "## v7 = X_train_scaled, X_test_scaled, y_train, y_test - CC y SI outliers y NO balanceados y ED\n",
    "## v5 = X_train_clean_scaled, X_test_clean_scaled, y_train_clean, y_test_clean - CC y NO outliers y NO balanceados y ED\n",
    "## v8 = X_train_balanced_scaled, X_test_scaled, y_train, y_test - CC y SI outliers y balanceados y ED\n",
    "## v6 = X_train_clean_balanced_scaled, X_test_clean_scaled, y_train_clean, y_test_clean - CC y NO outliers y balanceados y ED"
   ]
  },
  {
   "cell_type": "code",
   "execution_count": 38,
   "id": "7e8ade09",
   "metadata": {},
   "outputs": [
    {
     "name": "stdout",
     "output_type": "stream",
     "text": [
      "Todos los conjuntos de datos fueron exportados correctamente.\n"
     ]
    }
   ],
   "source": [
    "\"\"\"datasets = {\n",
    "    \"v3\": {\"X_train\": X_train, \"X_test\": X_test, \"y_train\": y_train, \"y_test\": y_test},\n",
    "    \"v1\": {\"X_train\": X_train_clean, \"X_test\": X_test_clean, \"y_train\": y_train_clean, \"y_test\": y_test_clean},\n",
    "    \"v4\": {\"X_train\": X_train_balanced, \"X_test\": X_test, \"y_train\": y_train, \"y_test\": y_test}, -----malo\n",
    "    \"v2\": {\"X_train\": X_train_clean_balanced, \"X_test\": X_test_clean, \"y_train\": y_train_clean, \"y_test\": y_test_clean}, -----malo\n",
    "    \"v7\": {\"X_train\": X_train_scaled, \"X_test\": X_test_scaled, \"y_train\": y_train, \"y_test\": y_test},\n",
    "    \"v5\": {\"X_train\": X_train_clean_scaled, \"X_test\": X_test_clean_scaled, \"y_train\": y_train_clean, \"y_test\": y_test_clean},\n",
    "    \"v8\": {\"X_train\": X_train_balanced_scaled, \"X_test\": X_test_scaled, \"y_train\": y_train, \"y_test\": y_test}, -----malo\n",
    "    \"v6\": {\"X_train\": X_train_clean_balanced_scaled, \"X_test\": X_test_clean_scaled, \"y_train\": y_train_clean, \"y_test\": y_test_clean}, -----malo\n",
    "}\n",
    "\n",
    "for version, data in datasets.items():\n",
    "    with open(f\"pickle/dataset_{version}.pkl\", \"wb\") as f:\n",
    "        pickle.dump(data, f)\n",
    "print(\"Todos los conjuntos de datos fueron exportados correctamente.\")\"\"\"\n",
    "\n",
    "\n",
    "datasets = {\n",
    "    \"v2\": {\"X_train\": X_train_clean_balanced, \"X_test\": X_test_clean, \"y_train\": y_train_clean_balanced, \"y_test\": y_test_clean},\n",
    "    \"v4\": {\"X_train\": X_train_balanced, \"X_test\": X_test, \"y_train\": y_train_balanced, \"y_test\": y_test},\n",
    "    \"v8\": {\"X_train\": X_train_balanced_scaled, \"X_test\": X_test_scaled, \"y_train\": y_train_balanced, \"y_test\": y_test},\n",
    "    \"v6\": {\"X_train\": X_train_clean_balanced_scaled, \"X_test\": X_test_clean_scaled, \"y_train\": y_train_clean_balanced, \"y_test\": y_test_clean},\n",
    "}\n",
    "\n",
    "for version, data in datasets.items():\n",
    "    with open(f\"pickle/dataset_{version}.pkl\", \"wb\") as f:\n",
    "        pickle.dump(data, f)\n",
    "print(\"Todos los conjuntos de datos fueron exportados correctamente.\")\n"
   ]
  }
 ],
 "metadata": {
  "kernelspec": {
   "display_name": "Python 3",
   "language": "python",
   "name": "python3"
  },
  "language_info": {
   "codemirror_mode": {
    "name": "ipython",
    "version": 3
   },
   "file_extension": ".py",
   "mimetype": "text/x-python",
   "name": "python",
   "nbconvert_exporter": "python",
   "pygments_lexer": "ipython3",
   "version": "3.13.2"
  }
 },
 "nbformat": 4,
 "nbformat_minor": 5
}
